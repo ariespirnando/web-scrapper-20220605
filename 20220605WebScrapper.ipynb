{
 "cells": [
  {
   "cell_type": "code",
   "execution_count": 40,
   "id": "a0df1de1",
   "metadata": {},
   "outputs": [],
   "source": [
    "#import here\n",
    "from bs4 import BeautifulSoup\n",
    "import requests\n",
    "import pandas as pd \n",
    "import multiprocessing as mp\n",
    "from lxml import etree"
   ]
  },
  {
   "cell_type": "code",
   "execution_count": 7,
   "id": "d446680b",
   "metadata": {},
   "outputs": [
    {
     "name": "stdout",
     "output_type": "stream",
     "text": [
      "Count CPU :  4\n"
     ]
    }
   ],
   "source": [
    "print (\"Count CPU : \",mp.cpu_count())"
   ]
  },
  {
   "cell_type": "code",
   "execution_count": 16,
   "id": "b81e823e",
   "metadata": {},
   "outputs": [],
   "source": [
    "df = pd.read_excel('ListofURLsv2.xlsx', sheet_name=0)   \n",
    "mylist = df['Listof1000URLs'].tolist()"
   ]
  },
  {
   "cell_type": "code",
   "execution_count": 27,
   "id": "37c9a4c0",
   "metadata": {},
   "outputs": [
    {
     "data": {
      "text/plain": [
       "'https://www.glbtnearme.org/GLBTNearMeResults.php?zip=36925&miles=500&category=Youth'"
      ]
     },
     "execution_count": 27,
     "metadata": {},
     "output_type": "execute_result"
    }
   ],
   "source": [
    "result = len(mylist)\n",
    "mylist[0]"
   ]
  },
  {
   "cell_type": "code",
   "execution_count": 28,
   "id": "4d1d6631",
   "metadata": {},
   "outputs": [
    {
     "data": {
      "text/plain": [
       "200"
      ]
     },
     "execution_count": 28,
     "metadata": {},
     "output_type": "execute_result"
    }
   ],
   "source": [
    "ua = {\"User-Agent\":\"Mozilla/5.0 (Windows NT 10.0; Win64; x64) AppleWebKit/537.36 (KHTML, like Gecko) Chrome/92.0.4515.107 Safari/537.36 Edg/92.0.902.62\"}\n",
    "response = requests.get(mylist[0]) \n",
    "status = response.status_code\n",
    "status\n",
    " "
   ]
  },
  {
   "cell_type": "code",
   "execution_count": 29,
   "id": "77c5438b",
   "metadata": {},
   "outputs": [],
   "source": [
    "soup = BeautifulSoup(response.content, 'html.parser')"
   ]
  },
  {
   "cell_type": "code",
   "execution_count": 31,
   "id": "5a72c4fb",
   "metadata": {},
   "outputs": [],
   "source": [
    "results = soup.find('div', {'class':'categoryresults'}).find_all('p')"
   ]
  },
  {
   "cell_type": "code",
   "execution_count": 135,
   "id": "f7b47809",
   "metadata": {},
   "outputs": [
    {
     "data": {
      "text/plain": [
       "'Mississippi School for Mathematics and Science'"
      ]
     },
     "execution_count": 135,
     "metadata": {},
     "output_type": "execute_result"
    }
   ],
   "source": [
    "#Tanpa HTML Tag\n",
    "dom = etree.HTML(str(results[0]))\n",
    "name = dom.xpath('//p[1]/text()[1]')[0] \n",
    "x = name.split(\"\\xa0 \\xa0\\xa0 \\xa0\\xa0 \\xa0\")\n",
    "x[0]"
   ]
  },
  {
   "cell_type": "code",
   "execution_count": 83,
   "id": "5583d9d4",
   "metadata": {},
   "outputs": [
    {
     "name": "stdout",
     "output_type": "stream",
     "text": [
      "Brown, Jane\n"
     ]
    }
   ],
   "source": [
    "#Dengan HTML Tag\n",
    "results[1]\n",
    "name = results[1].find_all('a')\n",
    "print(name[0].text)"
   ]
  },
  {
   "cell_type": "code",
   "execution_count": 195,
   "id": "877af2c9",
   "metadata": {},
   "outputs": [
    {
     "name": "stdout",
     "output_type": "stream",
     "text": [
      "\n",
      "woodsm21@themsms.org\n"
     ]
    }
   ],
   "source": [
    "#Cek Web & Email\n",
    "results[1]\n",
    "rsweb = results[0].find_all('a',href=True)  \n",
    "web=[]\n",
    "mail=[]\n",
    "for urlw in rsweb:\n",
    "    url = urlw['href']\n",
    "    if url.startswith('https') or url.startswith('http'):\n",
    "        exists = url in web\n",
    "        if exists == False:\n",
    "            web.append(url)\n",
    "    elif url.startswith('mailto'):\n",
    "        urlr = url.replace('mailto:', '')\n",
    "        exists = urlr in mail\n",
    "        if exists == False:\n",
    "            mail.append(urlr)\n",
    "webj = \",\". join(web)\n",
    "mailj = \",\". join(mail)\n",
    "print(webj)\n",
    "print(mailj)"
   ]
  },
  {
   "cell_type": "code",
   "execution_count": 196,
   "id": "7b3f5f38",
   "metadata": {},
   "outputs": [],
   "source": [
    " #Gabung\n",
    "source_url = []\n",
    "name = []\n",
    "website = []\n",
    "email = []\n",
    "for ress in results:\n",
    "    source_url.append(mylist[0])\n",
    "    #Search Name\n",
    "    dom = etree.HTML(str(ress))\n",
    "    na = dom.xpath('//p[1]/text()[1]')[0] \n",
    "    namesr = na.split(\"\\xa0 \\xa0\\xa0 \\xa0\\xa0 \\xa0\") \n",
    "    if namesr[0] != '': \n",
    "        name.append(namesr[0])\n",
    "    else:\n",
    "        src1 = ress.find_all('a',href=True)\n",
    "        if not src1:\n",
    "            name.append('-')\n",
    "        else:\n",
    "            name.append(src1[0].text)  \n",
    "    \n",
    "    #Seach WEB & MAIL\n",
    "    src2 = ress.find_all('a',href=True)\n",
    "    if not src2:\n",
    "        website.append('-')\n",
    "        email.append('-')\n",
    "    else:  \n",
    "        web=[]\n",
    "        mail=[]\n",
    "        for urlw in src2:\n",
    "            url = urlw['href']\n",
    "            if url.startswith('https') or url.startswith('http'):\n",
    "                exists = url in web\n",
    "                if exists == False:\n",
    "                    web.append(url)\n",
    "            elif url.startswith('mailto'):\n",
    "                urlr = url.replace('mailto:', '')\n",
    "                exists = urlr in mail\n",
    "                if exists == False:\n",
    "                    mail.append(urlr) \n",
    "        if not web:\n",
    "            website.append('-')\n",
    "        else:\n",
    "            webj = \",\". join(web)\n",
    "            website.append(webj)\n",
    "            \n",
    "        if not mail:\n",
    "            email.append('-') \n",
    "        else:\n",
    "            mailj = \",\". join(mail)\n",
    "            email.append(mailj) "
   ]
  },
  {
   "cell_type": "code",
   "execution_count": 197,
   "id": "8ff16000",
   "metadata": {},
   "outputs": [
    {
     "data": {
      "text/html": [
       "<div>\n",
       "<style scoped>\n",
       "    .dataframe tbody tr th:only-of-type {\n",
       "        vertical-align: middle;\n",
       "    }\n",
       "\n",
       "    .dataframe tbody tr th {\n",
       "        vertical-align: top;\n",
       "    }\n",
       "\n",
       "    .dataframe thead th {\n",
       "        text-align: right;\n",
       "    }\n",
       "</style>\n",
       "<table border=\"1\" class=\"dataframe\">\n",
       "  <thead>\n",
       "    <tr style=\"text-align: right;\">\n",
       "      <th></th>\n",
       "      <th>Source URL</th>\n",
       "      <th>Name</th>\n",
       "      <th>Web</th>\n",
       "      <th>Email</th>\n",
       "    </tr>\n",
       "  </thead>\n",
       "  <tbody>\n",
       "    <tr>\n",
       "      <th>0</th>\n",
       "      <td>https://www.glbtnearme.org/GLBTNearMeResults.p...</td>\n",
       "      <td>Mississippi School for Mathematics and Science</td>\n",
       "      <td>-</td>\n",
       "      <td>woodsm21@themsms.org</td>\n",
       "    </tr>\n",
       "    <tr>\n",
       "      <th>1</th>\n",
       "      <td>https://www.glbtnearme.org/GLBTNearMeResults.p...</td>\n",
       "      <td>Brown, Jane</td>\n",
       "      <td>http://www.adultandchilddevelopment.com</td>\n",
       "      <td>ljsmith@adultandchilddevelopment.com</td>\n",
       "    </tr>\n",
       "    <tr>\n",
       "      <th>2</th>\n",
       "      <td>https://www.glbtnearme.org/GLBTNearMeResults.p...</td>\n",
       "      <td>Mississippi Safe Schools Coalition</td>\n",
       "      <td>http://www.mssafeschools.org/,http://twitter.c...</td>\n",
       "      <td>info@mssafeschools.org</td>\n",
       "    </tr>\n",
       "    <tr>\n",
       "      <th>3</th>\n",
       "      <td>https://www.glbtnearme.org/GLBTNearMeResults.p...</td>\n",
       "      <td>Steel City Spectrum</td>\n",
       "      <td>http://www.facebook.com/steelcityspectrum</td>\n",
       "      <td>keller@mcac-bao.org</td>\n",
       "    </tr>\n",
       "    <tr>\n",
       "      <th>4</th>\n",
       "      <td>https://www.glbtnearme.org/GLBTNearMeResults.p...</td>\n",
       "      <td>Willis, Samantha</td>\n",
       "      <td>http://avail.services,http://openpathcollectiv...</td>\n",
       "      <td>swillis@avail.services</td>\n",
       "    </tr>\n",
       "    <tr>\n",
       "      <th>...</th>\n",
       "      <td>...</td>\n",
       "      <td>...</td>\n",
       "      <td>...</td>\n",
       "      <td>...</td>\n",
       "    </tr>\n",
       "    <tr>\n",
       "      <th>178</th>\n",
       "      <td>https://www.glbtnearme.org/GLBTNearMeResults.p...</td>\n",
       "      <td>Fuse</td>\n",
       "      <td>http://www.dfwfuse.com,http://www.facebook.com...</td>\n",
       "      <td>fusebox@myresourcecenter.org</td>\n",
       "    </tr>\n",
       "    <tr>\n",
       "      <th>179</th>\n",
       "      <td>https://www.glbtnearme.org/GLBTNearMeResults.p...</td>\n",
       "      <td>Promise House, Inc.</td>\n",
       "      <td>http://www.promisehouse.org,http://www.faceboo...</td>\n",
       "      <td>-</td>\n",
       "    </tr>\n",
       "    <tr>\n",
       "      <th>180</th>\n",
       "      <td>https://www.glbtnearme.org/GLBTNearMeResults.p...</td>\n",
       "      <td>Rock Bridge High School Gay Straight Alliance</td>\n",
       "      <td>-</td>\n",
       "      <td>gkirchhofer@cpsk12.org</td>\n",
       "    </tr>\n",
       "    <tr>\n",
       "      <th>181</th>\n",
       "      <td>https://www.glbtnearme.org/GLBTNearMeResults.p...</td>\n",
       "      <td>DFWTKF</td>\n",
       "      <td>http://dfwtkf.com,http://www.facebook.com/pg/D...</td>\n",
       "      <td>info@dfwtkf.com</td>\n",
       "    </tr>\n",
       "    <tr>\n",
       "      <th>182</th>\n",
       "      <td>https://www.glbtnearme.org/GLBTNearMeResults.p...</td>\n",
       "      <td>Hagerty High School</td>\n",
       "      <td>-</td>\n",
       "      <td>-</td>\n",
       "    </tr>\n",
       "  </tbody>\n",
       "</table>\n",
       "<p>183 rows × 4 columns</p>\n",
       "</div>"
      ],
      "text/plain": [
       "                                            Source URL  \\\n",
       "0    https://www.glbtnearme.org/GLBTNearMeResults.p...   \n",
       "1    https://www.glbtnearme.org/GLBTNearMeResults.p...   \n",
       "2    https://www.glbtnearme.org/GLBTNearMeResults.p...   \n",
       "3    https://www.glbtnearme.org/GLBTNearMeResults.p...   \n",
       "4    https://www.glbtnearme.org/GLBTNearMeResults.p...   \n",
       "..                                                 ...   \n",
       "178  https://www.glbtnearme.org/GLBTNearMeResults.p...   \n",
       "179  https://www.glbtnearme.org/GLBTNearMeResults.p...   \n",
       "180  https://www.glbtnearme.org/GLBTNearMeResults.p...   \n",
       "181  https://www.glbtnearme.org/GLBTNearMeResults.p...   \n",
       "182  https://www.glbtnearme.org/GLBTNearMeResults.p...   \n",
       "\n",
       "                                               Name  \\\n",
       "0    Mississippi School for Mathematics and Science   \n",
       "1                                       Brown, Jane   \n",
       "2                Mississippi Safe Schools Coalition   \n",
       "3                               Steel City Spectrum   \n",
       "4                                  Willis, Samantha   \n",
       "..                                              ...   \n",
       "178                                            Fuse   \n",
       "179                             Promise House, Inc.   \n",
       "180   Rock Bridge High School Gay Straight Alliance   \n",
       "181                                          DFWTKF   \n",
       "182                             Hagerty High School   \n",
       "\n",
       "                                                   Web  \\\n",
       "0                                                    -   \n",
       "1              http://www.adultandchilddevelopment.com   \n",
       "2    http://www.mssafeschools.org/,http://twitter.c...   \n",
       "3            http://www.facebook.com/steelcityspectrum   \n",
       "4    http://avail.services,http://openpathcollectiv...   \n",
       "..                                                 ...   \n",
       "178  http://www.dfwfuse.com,http://www.facebook.com...   \n",
       "179  http://www.promisehouse.org,http://www.faceboo...   \n",
       "180                                                  -   \n",
       "181  http://dfwtkf.com,http://www.facebook.com/pg/D...   \n",
       "182                                                  -   \n",
       "\n",
       "                                    Email  \n",
       "0                    woodsm21@themsms.org  \n",
       "1    ljsmith@adultandchilddevelopment.com  \n",
       "2                  info@mssafeschools.org  \n",
       "3                     keller@mcac-bao.org  \n",
       "4                  swillis@avail.services  \n",
       "..                                    ...  \n",
       "178          fusebox@myresourcecenter.org  \n",
       "179                                     -  \n",
       "180                gkirchhofer@cpsk12.org  \n",
       "181                       info@dfwtkf.com  \n",
       "182                                     -  \n",
       "\n",
       "[183 rows x 4 columns]"
      ]
     },
     "execution_count": 197,
     "metadata": {},
     "output_type": "execute_result"
    }
   ],
   "source": [
    "#Source URL\tName\tWeb\tEmail\n",
    "datasave = pd.DataFrame({'Source URL': source_url, 'Name':name, 'Web':website, 'Email':email})\n",
    "datasave"
   ]
  },
  {
   "cell_type": "code",
   "execution_count": 198,
   "id": "664400bd",
   "metadata": {},
   "outputs": [],
   "source": [
    "datasave.to_excel('data20220605.xlsx', index=False)"
   ]
  },
  {
   "cell_type": "code",
   "execution_count": null,
   "id": "bd52ef19",
   "metadata": {},
   "outputs": [],
   "source": []
  }
 ],
 "metadata": {
  "kernelspec": {
   "display_name": "Python 3 (ipykernel)",
   "language": "python",
   "name": "python3"
  },
  "language_info": {
   "codemirror_mode": {
    "name": "ipython",
    "version": 3
   },
   "file_extension": ".py",
   "mimetype": "text/x-python",
   "name": "python",
   "nbconvert_exporter": "python",
   "pygments_lexer": "ipython3",
   "version": "3.8.13"
  }
 },
 "nbformat": 4,
 "nbformat_minor": 5
}
