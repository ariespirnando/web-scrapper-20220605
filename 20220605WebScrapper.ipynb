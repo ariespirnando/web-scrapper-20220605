{
 "cells": [
  {
   "cell_type": "code",
   "execution_count": 40,
   "id": "a0df1de1",
   "metadata": {},
   "outputs": [],
   "source": [
    "#import here\n",
    "from bs4 import BeautifulSoup\n",
    "import requests\n",
    "import pandas as pd \n",
    "import multiprocessing as mp\n",
    "from lxml import etree"
   ]
  },
  {
   "cell_type": "code",
   "execution_count": 7,
   "id": "d446680b",
   "metadata": {},
   "outputs": [
    {
     "name": "stdout",
     "output_type": "stream",
     "text": [
      "Count CPU :  4\n"
     ]
    }
   ],
   "source": [
    "print (\"Count CPU : \",mp.cpu_count())"
   ]
  },
  {
   "cell_type": "code",
   "execution_count": 16,
   "id": "b81e823e",
   "metadata": {},
   "outputs": [],
   "source": [
    "df = pd.read_excel('ListofURLsv2.xlsx', sheet_name=0)   \n",
    "mylist = df['Listof1000URLs'].tolist()"
   ]
  },
  {
   "cell_type": "code",
   "execution_count": 27,
   "id": "37c9a4c0",
   "metadata": {},
   "outputs": [
    {
     "data": {
      "text/plain": [
       "'https://www.glbtnearme.org/GLBTNearMeResults.php?zip=36925&miles=500&category=Youth'"
      ]
     },
     "execution_count": 27,
     "metadata": {},
     "output_type": "execute_result"
    }
   ],
   "source": [
    "result = len(mylist)\n",
    "mylist[0]"
   ]
  },
  {
   "cell_type": "code",
   "execution_count": 28,
   "id": "d4c9995b",
   "metadata": {},
   "outputs": [
    {
     "data": {
      "text/plain": [
       "200"
      ]
     },
     "execution_count": 28,
     "metadata": {},
     "output_type": "execute_result"
    }
   ],
   "source": [
    "ua = {\"User-Agent\":\"Mozilla/5.0 (Windows NT 10.0; Win64; x64) AppleWebKit/537.36 (KHTML, like Gecko) Chrome/92.0.4515.107 Safari/537.36 Edg/92.0.902.62\"}\n",
    "response = requests.get(mylist[0]) \n",
    "status = response.status_code\n",
    "status\n",
    " "
   ]
  },
  {
   "cell_type": "code",
   "execution_count": 29,
   "id": "acb07c38",
   "metadata": {},
   "outputs": [],
   "source": [
    "soup = BeautifulSoup(response.content, 'html.parser')"
   ]
  },
  {
   "cell_type": "code",
   "execution_count": 31,
   "id": "7e506786",
   "metadata": {},
   "outputs": [],
   "source": [
    "results = soup.find('div', {'class':'categoryresults'}).find_all('p')"
   ]
  },
  {
   "cell_type": "code",
   "execution_count": 135,
   "id": "a3c4f540",
   "metadata": {},
   "outputs": [
    {
     "data": {
      "text/plain": [
       "'Mississippi School for Mathematics and Science'"
      ]
     },
     "execution_count": 135,
     "metadata": {},
     "output_type": "execute_result"
    }
   ],
   "source": [
    "#Tanpa HTML Tag\n",
    "dom = etree.HTML(str(results[0]))\n",
    "name = dom.xpath('//p[1]/text()[1]')[0] \n",
    "x = name.split(\"\\xa0 \\xa0\\xa0 \\xa0\\xa0 \\xa0\")\n",
    "x[0]"
   ]
  },
  {
   "cell_type": "code",
   "execution_count": 83,
   "id": "5fc35e00",
   "metadata": {},
   "outputs": [
    {
     "name": "stdout",
     "output_type": "stream",
     "text": [
      "Brown, Jane\n"
     ]
    }
   ],
   "source": [
    "#Dengan HTML Tag\n",
    "results[1]\n",
    "name = results[1].find_all('a')\n",
    "print(name[0].text)"
   ]
  },
  {
   "cell_type": "code",
   "execution_count": 195,
   "id": "a3aaf6de",
   "metadata": {},
   "outputs": [
    {
     "name": "stdout",
     "output_type": "stream",
     "text": [
      "\n",
      "woodsm21@themsms.org\n"
     ]
    }
   ],
   "source": [
    "#Cek Web & Email\n",
    "results[1]\n",
    "rsweb = results[0].find_all('a',href=True)  \n",
    "web=[]\n",
    "mail=[]\n",
    "for urlw in rsweb:\n",
    "    url = urlw['href']\n",
    "    if url.startswith('https') or url.startswith('http'):\n",
    "        exists = url in web\n",
    "        if exists == False:\n",
    "            web.append(url)\n",
    "    elif url.startswith('mailto'):\n",
    "        urlr = url.replace('mailto:', '')\n",
    "        exists = urlr in mail\n",
    "        if exists == False:\n",
    "            mail.append(urlr)\n",
    "webj = \",\". join(web)\n",
    "mailj = \",\". join(mail)\n",
    "print(webj)\n",
    "print(mailj)"
   ]
  },
  {
   "cell_type": "code",
   "execution_count": 210,
   "id": "9975b7e8",
   "metadata": {},
   "outputs": [
    {
     "name": "stdout",
     "output_type": "stream",
     "text": [
      "{'Source of URL': ['https://www.glbtnearme.org/GLBTNearMeResults.php?zip=36925&miles=500&category=Youth', 'https://www.glbtnearme.org/GLBTNearMeResults.php?zip=36925&miles=500&category=Youth', 'https://www.glbtnearme.org/GLBTNearMeResults.php?zip=36925&miles=500&category=Youth', 'https://www.glbtnearme.org/GLBTNearMeResults.php?zip=36925&miles=500&category=Youth', 'https://www.glbtnearme.org/GLBTNearMeResults.php?zip=36925&miles=500&category=Youth', 'https://www.glbtnearme.org/GLBTNearMeResults.php?zip=36925&miles=500&category=Youth', 'https://www.glbtnearme.org/GLBTNearMeResults.php?zip=36925&miles=500&category=Youth', 'https://www.glbtnearme.org/GLBTNearMeResults.php?zip=36925&miles=500&category=Youth', 'https://www.glbtnearme.org/GLBTNearMeResults.php?zip=36925&miles=500&category=Youth', 'https://www.glbtnearme.org/GLBTNearMeResults.php?zip=36925&miles=500&category=Youth', 'https://www.glbtnearme.org/GLBTNearMeResults.php?zip=36925&miles=500&category=Youth', 'https://www.glbtnearme.org/GLBTNearMeResults.php?zip=36925&miles=500&category=Youth', 'https://www.glbtnearme.org/GLBTNearMeResults.php?zip=36925&miles=500&category=Youth', 'https://www.glbtnearme.org/GLBTNearMeResults.php?zip=36925&miles=500&category=Youth', 'https://www.glbtnearme.org/GLBTNearMeResults.php?zip=36925&miles=500&category=Youth', 'https://www.glbtnearme.org/GLBTNearMeResults.php?zip=36925&miles=500&category=Youth', 'https://www.glbtnearme.org/GLBTNearMeResults.php?zip=36925&miles=500&category=Youth', 'https://www.glbtnearme.org/GLBTNearMeResults.php?zip=36925&miles=500&category=Youth', 'https://www.glbtnearme.org/GLBTNearMeResults.php?zip=36925&miles=500&category=Youth', 'https://www.glbtnearme.org/GLBTNearMeResults.php?zip=36925&miles=500&category=Youth', 'https://www.glbtnearme.org/GLBTNearMeResults.php?zip=36925&miles=500&category=Youth', 'https://www.glbtnearme.org/GLBTNearMeResults.php?zip=36925&miles=500&category=Youth', 'https://www.glbtnearme.org/GLBTNearMeResults.php?zip=36925&miles=500&category=Youth', 'https://www.glbtnearme.org/GLBTNearMeResults.php?zip=36925&miles=500&category=Youth', 'https://www.glbtnearme.org/GLBTNearMeResults.php?zip=36925&miles=500&category=Youth', 'https://www.glbtnearme.org/GLBTNearMeResults.php?zip=36925&miles=500&category=Youth', 'https://www.glbtnearme.org/GLBTNearMeResults.php?zip=36925&miles=500&category=Youth', 'https://www.glbtnearme.org/GLBTNearMeResults.php?zip=36925&miles=500&category=Youth', 'https://www.glbtnearme.org/GLBTNearMeResults.php?zip=36925&miles=500&category=Youth', 'https://www.glbtnearme.org/GLBTNearMeResults.php?zip=36925&miles=500&category=Youth', 'https://www.glbtnearme.org/GLBTNearMeResults.php?zip=36925&miles=500&category=Youth', 'https://www.glbtnearme.org/GLBTNearMeResults.php?zip=36925&miles=500&category=Youth', 'https://www.glbtnearme.org/GLBTNearMeResults.php?zip=36925&miles=500&category=Youth', 'https://www.glbtnearme.org/GLBTNearMeResults.php?zip=36925&miles=500&category=Youth', 'https://www.glbtnearme.org/GLBTNearMeResults.php?zip=36925&miles=500&category=Youth', 'https://www.glbtnearme.org/GLBTNearMeResults.php?zip=36925&miles=500&category=Youth', 'https://www.glbtnearme.org/GLBTNearMeResults.php?zip=36925&miles=500&category=Youth', 'https://www.glbtnearme.org/GLBTNearMeResults.php?zip=36925&miles=500&category=Youth', 'https://www.glbtnearme.org/GLBTNearMeResults.php?zip=36925&miles=500&category=Youth', 'https://www.glbtnearme.org/GLBTNearMeResults.php?zip=36925&miles=500&category=Youth', 'https://www.glbtnearme.org/GLBTNearMeResults.php?zip=36925&miles=500&category=Youth', 'https://www.glbtnearme.org/GLBTNearMeResults.php?zip=36925&miles=500&category=Youth', 'https://www.glbtnearme.org/GLBTNearMeResults.php?zip=36925&miles=500&category=Youth', 'https://www.glbtnearme.org/GLBTNearMeResults.php?zip=36925&miles=500&category=Youth', 'https://www.glbtnearme.org/GLBTNearMeResults.php?zip=36925&miles=500&category=Youth', 'https://www.glbtnearme.org/GLBTNearMeResults.php?zip=36925&miles=500&category=Youth', 'https://www.glbtnearme.org/GLBTNearMeResults.php?zip=36925&miles=500&category=Youth', 'https://www.glbtnearme.org/GLBTNearMeResults.php?zip=36925&miles=500&category=Youth', 'https://www.glbtnearme.org/GLBTNearMeResults.php?zip=36925&miles=500&category=Youth', 'https://www.glbtnearme.org/GLBTNearMeResults.php?zip=36925&miles=500&category=Youth', 'https://www.glbtnearme.org/GLBTNearMeResults.php?zip=36925&miles=500&category=Youth', 'https://www.glbtnearme.org/GLBTNearMeResults.php?zip=36925&miles=500&category=Youth', 'https://www.glbtnearme.org/GLBTNearMeResults.php?zip=36925&miles=500&category=Youth', 'https://www.glbtnearme.org/GLBTNearMeResults.php?zip=36925&miles=500&category=Youth', 'https://www.glbtnearme.org/GLBTNearMeResults.php?zip=36925&miles=500&category=Youth', 'https://www.glbtnearme.org/GLBTNearMeResults.php?zip=36925&miles=500&category=Youth', 'https://www.glbtnearme.org/GLBTNearMeResults.php?zip=36925&miles=500&category=Youth', 'https://www.glbtnearme.org/GLBTNearMeResults.php?zip=36925&miles=500&category=Youth', 'https://www.glbtnearme.org/GLBTNearMeResults.php?zip=36925&miles=500&category=Youth', 'https://www.glbtnearme.org/GLBTNearMeResults.php?zip=36925&miles=500&category=Youth', 'https://www.glbtnearme.org/GLBTNearMeResults.php?zip=36925&miles=500&category=Youth', 'https://www.glbtnearme.org/GLBTNearMeResults.php?zip=36925&miles=500&category=Youth', 'https://www.glbtnearme.org/GLBTNearMeResults.php?zip=36925&miles=500&category=Youth', 'https://www.glbtnearme.org/GLBTNearMeResults.php?zip=36925&miles=500&category=Youth', 'https://www.glbtnearme.org/GLBTNearMeResults.php?zip=36925&miles=500&category=Youth', 'https://www.glbtnearme.org/GLBTNearMeResults.php?zip=36925&miles=500&category=Youth', 'https://www.glbtnearme.org/GLBTNearMeResults.php?zip=36925&miles=500&category=Youth', 'https://www.glbtnearme.org/GLBTNearMeResults.php?zip=36925&miles=500&category=Youth', 'https://www.glbtnearme.org/GLBTNearMeResults.php?zip=36925&miles=500&category=Youth', 'https://www.glbtnearme.org/GLBTNearMeResults.php?zip=36925&miles=500&category=Youth', 'https://www.glbtnearme.org/GLBTNearMeResults.php?zip=36925&miles=500&category=Youth', 'https://www.glbtnearme.org/GLBTNearMeResults.php?zip=36925&miles=500&category=Youth', 'https://www.glbtnearme.org/GLBTNearMeResults.php?zip=36925&miles=500&category=Youth', 'https://www.glbtnearme.org/GLBTNearMeResults.php?zip=36925&miles=500&category=Youth', 'https://www.glbtnearme.org/GLBTNearMeResults.php?zip=36925&miles=500&category=Youth', 'https://www.glbtnearme.org/GLBTNearMeResults.php?zip=36925&miles=500&category=Youth', 'https://www.glbtnearme.org/GLBTNearMeResults.php?zip=36925&miles=500&category=Youth', 'https://www.glbtnearme.org/GLBTNearMeResults.php?zip=36925&miles=500&category=Youth', 'https://www.glbtnearme.org/GLBTNearMeResults.php?zip=36925&miles=500&category=Youth', 'https://www.glbtnearme.org/GLBTNearMeResults.php?zip=36925&miles=500&category=Youth', 'https://www.glbtnearme.org/GLBTNearMeResults.php?zip=36925&miles=500&category=Youth', 'https://www.glbtnearme.org/GLBTNearMeResults.php?zip=36925&miles=500&category=Youth', 'https://www.glbtnearme.org/GLBTNearMeResults.php?zip=36925&miles=500&category=Youth', 'https://www.glbtnearme.org/GLBTNearMeResults.php?zip=36925&miles=500&category=Youth', 'https://www.glbtnearme.org/GLBTNearMeResults.php?zip=36925&miles=500&category=Youth', 'https://www.glbtnearme.org/GLBTNearMeResults.php?zip=36925&miles=500&category=Youth', 'https://www.glbtnearme.org/GLBTNearMeResults.php?zip=36925&miles=500&category=Youth', 'https://www.glbtnearme.org/GLBTNearMeResults.php?zip=36925&miles=500&category=Youth', 'https://www.glbtnearme.org/GLBTNearMeResults.php?zip=36925&miles=500&category=Youth', 'https://www.glbtnearme.org/GLBTNearMeResults.php?zip=36925&miles=500&category=Youth', 'https://www.glbtnearme.org/GLBTNearMeResults.php?zip=36925&miles=500&category=Youth', 'https://www.glbtnearme.org/GLBTNearMeResults.php?zip=36925&miles=500&category=Youth', 'https://www.glbtnearme.org/GLBTNearMeResults.php?zip=36925&miles=500&category=Youth', 'https://www.glbtnearme.org/GLBTNearMeResults.php?zip=36925&miles=500&category=Youth', 'https://www.glbtnearme.org/GLBTNearMeResults.php?zip=36925&miles=500&category=Youth', 'https://www.glbtnearme.org/GLBTNearMeResults.php?zip=36925&miles=500&category=Youth', 'https://www.glbtnearme.org/GLBTNearMeResults.php?zip=36925&miles=500&category=Youth', 'https://www.glbtnearme.org/GLBTNearMeResults.php?zip=36925&miles=500&category=Youth', 'https://www.glbtnearme.org/GLBTNearMeResults.php?zip=36925&miles=500&category=Youth', 'https://www.glbtnearme.org/GLBTNearMeResults.php?zip=36925&miles=500&category=Youth', 'https://www.glbtnearme.org/GLBTNearMeResults.php?zip=36925&miles=500&category=Youth', 'https://www.glbtnearme.org/GLBTNearMeResults.php?zip=36925&miles=500&category=Youth', 'https://www.glbtnearme.org/GLBTNearMeResults.php?zip=36925&miles=500&category=Youth', 'https://www.glbtnearme.org/GLBTNearMeResults.php?zip=36925&miles=500&category=Youth', 'https://www.glbtnearme.org/GLBTNearMeResults.php?zip=36925&miles=500&category=Youth', 'https://www.glbtnearme.org/GLBTNearMeResults.php?zip=36925&miles=500&category=Youth', 'https://www.glbtnearme.org/GLBTNearMeResults.php?zip=36925&miles=500&category=Youth', 'https://www.glbtnearme.org/GLBTNearMeResults.php?zip=36925&miles=500&category=Youth', 'https://www.glbtnearme.org/GLBTNearMeResults.php?zip=36925&miles=500&category=Youth', 'https://www.glbtnearme.org/GLBTNearMeResults.php?zip=36925&miles=500&category=Youth', 'https://www.glbtnearme.org/GLBTNearMeResults.php?zip=36925&miles=500&category=Youth', 'https://www.glbtnearme.org/GLBTNearMeResults.php?zip=36925&miles=500&category=Youth', 'https://www.glbtnearme.org/GLBTNearMeResults.php?zip=36925&miles=500&category=Youth', 'https://www.glbtnearme.org/GLBTNearMeResults.php?zip=36925&miles=500&category=Youth', 'https://www.glbtnearme.org/GLBTNearMeResults.php?zip=36925&miles=500&category=Youth', 'https://www.glbtnearme.org/GLBTNearMeResults.php?zip=36925&miles=500&category=Youth', 'https://www.glbtnearme.org/GLBTNearMeResults.php?zip=36925&miles=500&category=Youth', 'https://www.glbtnearme.org/GLBTNearMeResults.php?zip=36925&miles=500&category=Youth', 'https://www.glbtnearme.org/GLBTNearMeResults.php?zip=36925&miles=500&category=Youth', 'https://www.glbtnearme.org/GLBTNearMeResults.php?zip=36925&miles=500&category=Youth', 'https://www.glbtnearme.org/GLBTNearMeResults.php?zip=36925&miles=500&category=Youth', 'https://www.glbtnearme.org/GLBTNearMeResults.php?zip=36925&miles=500&category=Youth', 'https://www.glbtnearme.org/GLBTNearMeResults.php?zip=36925&miles=500&category=Youth', 'https://www.glbtnearme.org/GLBTNearMeResults.php?zip=36925&miles=500&category=Youth', 'https://www.glbtnearme.org/GLBTNearMeResults.php?zip=36925&miles=500&category=Youth', 'https://www.glbtnearme.org/GLBTNearMeResults.php?zip=36925&miles=500&category=Youth', 'https://www.glbtnearme.org/GLBTNearMeResults.php?zip=36925&miles=500&category=Youth', 'https://www.glbtnearme.org/GLBTNearMeResults.php?zip=36925&miles=500&category=Youth', 'https://www.glbtnearme.org/GLBTNearMeResults.php?zip=36925&miles=500&category=Youth', 'https://www.glbtnearme.org/GLBTNearMeResults.php?zip=36925&miles=500&category=Youth', 'https://www.glbtnearme.org/GLBTNearMeResults.php?zip=36925&miles=500&category=Youth', 'https://www.glbtnearme.org/GLBTNearMeResults.php?zip=36925&miles=500&category=Youth', 'https://www.glbtnearme.org/GLBTNearMeResults.php?zip=36925&miles=500&category=Youth', 'https://www.glbtnearme.org/GLBTNearMeResults.php?zip=36925&miles=500&category=Youth', 'https://www.glbtnearme.org/GLBTNearMeResults.php?zip=36925&miles=500&category=Youth', 'https://www.glbtnearme.org/GLBTNearMeResults.php?zip=36925&miles=500&category=Youth', 'https://www.glbtnearme.org/GLBTNearMeResults.php?zip=36925&miles=500&category=Youth', 'https://www.glbtnearme.org/GLBTNearMeResults.php?zip=36925&miles=500&category=Youth', 'https://www.glbtnearme.org/GLBTNearMeResults.php?zip=36925&miles=500&category=Youth', 'https://www.glbtnearme.org/GLBTNearMeResults.php?zip=36925&miles=500&category=Youth', 'https://www.glbtnearme.org/GLBTNearMeResults.php?zip=36925&miles=500&category=Youth', 'https://www.glbtnearme.org/GLBTNearMeResults.php?zip=36925&miles=500&category=Youth', 'https://www.glbtnearme.org/GLBTNearMeResults.php?zip=36925&miles=500&category=Youth', 'https://www.glbtnearme.org/GLBTNearMeResults.php?zip=36925&miles=500&category=Youth', 'https://www.glbtnearme.org/GLBTNearMeResults.php?zip=36925&miles=500&category=Youth', 'https://www.glbtnearme.org/GLBTNearMeResults.php?zip=36925&miles=500&category=Youth', 'https://www.glbtnearme.org/GLBTNearMeResults.php?zip=36925&miles=500&category=Youth', 'https://www.glbtnearme.org/GLBTNearMeResults.php?zip=36925&miles=500&category=Youth', 'https://www.glbtnearme.org/GLBTNearMeResults.php?zip=36925&miles=500&category=Youth', 'https://www.glbtnearme.org/GLBTNearMeResults.php?zip=36925&miles=500&category=Youth', 'https://www.glbtnearme.org/GLBTNearMeResults.php?zip=36925&miles=500&category=Youth', 'https://www.glbtnearme.org/GLBTNearMeResults.php?zip=36925&miles=500&category=Youth', 'https://www.glbtnearme.org/GLBTNearMeResults.php?zip=36925&miles=500&category=Youth', 'https://www.glbtnearme.org/GLBTNearMeResults.php?zip=36925&miles=500&category=Youth', 'https://www.glbtnearme.org/GLBTNearMeResults.php?zip=36925&miles=500&category=Youth', 'https://www.glbtnearme.org/GLBTNearMeResults.php?zip=36925&miles=500&category=Youth', 'https://www.glbtnearme.org/GLBTNearMeResults.php?zip=36925&miles=500&category=Youth', 'https://www.glbtnearme.org/GLBTNearMeResults.php?zip=36925&miles=500&category=Youth', 'https://www.glbtnearme.org/GLBTNearMeResults.php?zip=36925&miles=500&category=Youth', 'https://www.glbtnearme.org/GLBTNearMeResults.php?zip=36925&miles=500&category=Youth', 'https://www.glbtnearme.org/GLBTNearMeResults.php?zip=36925&miles=500&category=Youth', 'https://www.glbtnearme.org/GLBTNearMeResults.php?zip=36925&miles=500&category=Youth', 'https://www.glbtnearme.org/GLBTNearMeResults.php?zip=36925&miles=500&category=Youth', 'https://www.glbtnearme.org/GLBTNearMeResults.php?zip=36925&miles=500&category=Youth', 'https://www.glbtnearme.org/GLBTNearMeResults.php?zip=36925&miles=500&category=Youth', 'https://www.glbtnearme.org/GLBTNearMeResults.php?zip=36925&miles=500&category=Youth', 'https://www.glbtnearme.org/GLBTNearMeResults.php?zip=36925&miles=500&category=Youth', 'https://www.glbtnearme.org/GLBTNearMeResults.php?zip=36925&miles=500&category=Youth', 'https://www.glbtnearme.org/GLBTNearMeResults.php?zip=36925&miles=500&category=Youth', 'https://www.glbtnearme.org/GLBTNearMeResults.php?zip=36925&miles=500&category=Youth', 'https://www.glbtnearme.org/GLBTNearMeResults.php?zip=36925&miles=500&category=Youth', 'https://www.glbtnearme.org/GLBTNearMeResults.php?zip=36925&miles=500&category=Youth', 'https://www.glbtnearme.org/GLBTNearMeResults.php?zip=36925&miles=500&category=Youth', 'https://www.glbtnearme.org/GLBTNearMeResults.php?zip=36925&miles=500&category=Youth', 'https://www.glbtnearme.org/GLBTNearMeResults.php?zip=36925&miles=500&category=Youth', 'https://www.glbtnearme.org/GLBTNearMeResults.php?zip=36925&miles=500&category=Youth', 'https://www.glbtnearme.org/GLBTNearMeResults.php?zip=36925&miles=500&category=Youth', 'https://www.glbtnearme.org/GLBTNearMeResults.php?zip=36925&miles=500&category=Youth', 'https://www.glbtnearme.org/GLBTNearMeResults.php?zip=36925&miles=500&category=Youth', 'https://www.glbtnearme.org/GLBTNearMeResults.php?zip=36925&miles=500&category=Youth', 'https://www.glbtnearme.org/GLBTNearMeResults.php?zip=36925&miles=500&category=Youth', 'https://www.glbtnearme.org/GLBTNearMeResults.php?zip=36925&miles=500&category=Youth', 'https://www.glbtnearme.org/GLBTNearMeResults.php?zip=36925&miles=500&category=Youth'], 'Name': [], 'Website': ['-', 'http://www.adultandchilddevelopment.com', 'http://www.mssafeschools.org/,http://twitter.com/mssafeschools', 'http://www.facebook.com/steelcityspectrum', 'http://avail.services,http://openpathcollective.org/clinicians/samantha-willis/,http://www.facebook.com/avail.services/', 'http://www.montgomeryprideunited.org,http://www.facebook.com/montgomeryprideunited,http://www.instagram.com/montgomerypride/', 'http://altapointe.org/staff/elizabeth-wood/', '-', '-', 'http://gracechristiancounselingcenter.com', '-', 'http://www.huntsvillecityschools.org/schools/grissom-high-school/gsa-diversity-club', 'http://sarahmulderpsychology.com', 'http://www.huntsvillecityschools.org/schools/new-century-technology-high-school/gay-straight-allian', 'http://www.lgbtccneworleans.org,http://www.facebook.com/lgbtccno', 'http://www.youthbreakout.org,http://www.facebook.com/YouthBreakOUT', '-', 'http://neworleansqyt.wix.com/loud,http://www.facebook.com/loudtheater', 'http://outmemphis.org/programs-services/youth,http://facebook.com/outmemphis', '-', 'http://www.youthoasis.org,http://www.facebook.com/YouthOasis', '-', 'http://lgbtqcenterofbaycounty.org', 'http://www.pflagptc.org', 'http://fchsfranklintn.sch', 'http://www.all1familyinc.org/residential-homes,http://www.facebook.com/all1FAMily', 'http://www.chris180.org,http://www.facebook.com/CHRIS180Advocate,http://twitter.com/CHRIS180_Change', 'http://georgiaequality.org/issues/safe-schools/,http://www.facebook.com/AtlantaCoalition/', 'http://www.sojourngsd.org,http://twitter.com/SojournGSD/', 'http://sojourngsd.org/support-3,http://twitter.com/SojournGSD/', 'http://lnfy.org,http://www.facebook.com/LostNFoundYouth,http://twitter.com/lostnfoundyouth', 'http://www.skylandtrail.org/landing/psychiatric-treatment-for-lgbtq-adults-teens/', 'http://www.facebook.com/Druid-Hills-High-School-GSA-206153926069578', 'http://smmhs.hcde.org/about_us/clubs/h_s__m_s_g_s_a_club', '-', 'http://www.perspectivesholistictherapy.com/tiffany-jones', 'http://www.perspectivesholistictherapy.com/laurie-patrice', 'http://https://www.gcpsk12.org/site/Default.aspx?PageID=28007', '-', 'http://pflagjohnscreek.org,http://www.facebook.com/pflagjohnscreek,http://twitter.com/pflagjohnscreek', 'http://www.brookwoodhighschool.net/apps/pages/index.jsp?uREC_ID=423447&type=d&pREC_ID=1061421', '-', '-', 'http://www.oasiscenter.org,http://www.facebook.com/OasisCenterNashville,http://twitter.com/oasisnashville/', '-', 'http://www.justusoasis.org,http://www.facebook.com/JustUsatOasisCenter,http://twitter.com/justusoasis', 'http://www.street-works.org', 'http://www.facebook.com/raidergsa/', 'http://www.luciesplace.org,http://www.facebook.com/LuciesPlace,http://twitter.com/LuciesPlaceAR', '-', 'http://www.ocps.net/cms/one.aspx?pageId=203421', '-', 'http://pridecorps.org,http://www.facebook.com/PridecorpsGLBTYouth', 'http://www.archildrens.org/programs-services/a-to-z-services-list/gender-spectrum-clinic/gender-spectrum-cl', 'http://athensqueercollective.org,http://www.facebook.com/athenslgbtqyouth', 'http://www.pacelouisiana.org/lgtbqa-social-support-group/,http://www.facebook.com/pacelouisiana,http://twitter.com/PACELouisiana', '-', 'http://www.knoxschools.org/Page/3892', 'http://www.marionunit2.org/Page/1671', 'http://www.thestayproject.net,http://www.facebook.com/thestayproject,http://twitter.com/STAYproject', 'http://www.rainbowcafe.org,http://www.facebook.com/rainbowcafelgbtyouthcenter,http://www.twitter.com/rainbowcafelgbt', 'http://www.cchs165.jacksn.k12.il.us', 'http://pridelink.org,http://www.facebook.com/pridelinksc', 'http://www.tsagl.org/youth-group.html,http://www.facebook.com/tristatealliance', '-', 'http://www.tracydavisblacktherapy.com,http://www.facebook.com/tracydavisblacktherapy', 'http://tranzmission.org/,http://www.facebook.com/Tranzmission-1054940197916209,http://twitter.com/tranzmission', 'http://www.youthoutright.org,http://linktr.ee/youthoutright,http://instagram.com/youth.outright/', 'http://www.lccky.org/our%20camps.htm', '-', '-', 'http://www.anchoringwithin.com', 'http://endo.pediatrics.med.ufl.edu/resources/youth-gender-program/', 'http://upliftoutreachcenter.org,http://www.facebook.com/UpliftOutreachLGBTQYouthCenter', 'http://www.gainesvilleequalityyouth.com/,http://www.facebook.com/gainesvilleequalityyouth', '-', '-', '-', '-', 'http://www.nassau.k12.fl.us/Domain/658', 'http://scpactivities.weebly.com/clubs--orgs.html', 'http://www.facebook.com/gsapg', 'http://sweeteveningbreeze.org,http://facebook.com/sweetbreezeshelter,http://www.instagram.com/sweeteveningbreeze/', 'http://louisvilleyouthgroup.org,http:///www.facebook.com/wearelyg/', 'http://www.facebook.com/groups/165191453527502/', 'http://campoutflorida.com,http://www.instagram.com/campout.florida/,http://www.facebook.com/CampOUT.Florida', '-', 'http://www.sps.org/Page/4461', 'http://www.glocenter.org,http://www.facebook.com/theglocenter/,http://www.twitter.com/theglocenter', 'http://harriethancockcenter.org,http://www.facebook.com/HarrietHancockLGBTCenter/,http://twitter.com/lgbtcentersc', 'http://www.jasmyn.org,http://twitter.com/JASMYNJax,http://www.facebook.com/JASMYNJAX', 'http://www.facebook.com/scgsanetwork', 'http://harriethancockcenter.org/yol/,http://www.facebook.com/YouthOutloud', 'http://www.fcps.net/domain/11622', '-', 'http://www.facebook.com/GSAMiddleSchoolPTO', 'http://www.facebook.com/companyqlexington', 'http://www.kylpinc.org,http://www.facebook.com/KentuckyYouthLaw', 'http://www.facebook.com/lexingtonGSA', 'http://www.transparentusa.org,http://www.facebook.com/TransParentUSA,http://www.instagram.com/transparent_usa/', 'http://transparentusa.org/chapters-missouri/,http://www.facebook.com/TransParentUSA', 'http://www.growingamericanyouth.org,http://www.facebook.com/growingamericanyouth', 'http://www.epworth.org/services/24-7-helpline', 'http://authenticlifepllc.com', 'http://www.youthinneed.org,http://www.facebook.com/YouthInNeed1974,http://twitter.com/YouthInNeed', 'http://www.facebook.com/SHHS-Gay-Straight-Alliance-163856060361226', '-', 'http://outrightyouthcv.org,http://www.facebook.com/OUTrightYouthcv', 'http://www.genderinfinity.org,http://www.facebook.com/genderinfinityorg,http://www.instagram.com/gender_infinity/', 'http://www.pcsb.org/domain/11126', 'http://www.tonysplace.org,http://www.instagram.com/tonysplacehouston/,http://www.facebook.com/tonysplacehouston/', '-', 'http://www.montrosecenter.org/hatch-youth/,http://www.facebook.com/HATCHyouth', 'http://rootedtherapy.com/our-providers', 'http://www.instagram.com/whartongsa,http://www.hillsboroughschools.org/cms/lib/FL50000635/Centricity/Domain/2991/GSA%20Flyer.pdf', 'http://tmhs.tomballisd.net/apps/pages/index.jsp?uREC_ID=484689&type=d&pREC_ID=1019535', 'http://treygreenecounseling.com', 'http://www.metrotampabay.org/community/youth/', 'http://www.metrotampabay.org/community/youth', 'http://www.timeoutyouth.org/youth/programs,http://www.facebook.com/timeoutyouth,http://https://www.instagram.com/timeoutyouthcenter/', '-', 'http://www.metrotampabay.org/community/lgbtq-community-programming', 'http://www.alexander.k12.nc.us/Domain/1336', 'http://www.timeoutyouth.org/content/gsa-support', '-', '-', 'http://www.thetriangleconnection.com/,http://www.facebook.com/Triangle-Connection-224364877602127', '-', 'http://jhs.joplinschools.org/activities/clubs__organizations__and_activities,http://prideinjhs.weebly.com/', 'http://spencerpride.org/iris,http://twitter.com/SpencerPrideInc,http://www.facebook.com/spencerpridecommunitycenter', 'http://www.fortbendisd.com/Domain/19993', 'http://sites.google.com/a/galanorthtexas.org/gala-youth/,http://www.facebook.com/galayouthnorthtexas,http://twitter.com/GALA_Youth', 'http://www.ocps.net/cms/one.aspx?pageId=203421', '-', '-', '-', 'http://www.ocps.net/cms/one.aspx?pageId=203421', 'http://www.waf.org,http://twitter.com/wearefamilychs', 'http://www.ocps.net/cms/one.aspx?pageId=203421', 'http://www.ocps.net/cms/one.aspx?pageId=203421', 'http://www.wearefamilycharleston.org/programs', 'http://www.manateeschools.net/domain/3061', 'http://emergencecounseling.com', '-', 'http://www.zebrayouth.org/youth-meetups/', 'http://www.ocps.net/cms/one.aspx?pageId=203421', 'http://www.lakelandyouthalliance.org/,http://www.facebook.com/LakelandYouthAlliance,http://twitter.com/OYA_CFL', 'http://www.thecenterorlando.org,http://facebook.com/groups/cgicsgroup', '-', 'http://www.myresourcecenter.org/what-we-do/community/youth-first,http://www.facebook.com/YouthFirstbyRC', 'http://www.ocps.net/cms/one.aspx?pageId=203421', 'http://www.ocps.net/cms/one.aspx?pageId=203421', 'http://www.zebrayouth.org,http://www.facebook.com/zebracoalition,http://twitter.com/ZebraCoalition', 'http://www.orlandoyouthalliance.org,http://www.facebook.com/orlandoyouthalliance,http://twitter.com/OYA_CFL', 'http://www.alsoyouth.org,http://www.facebook.com/ALSOYouth,http://twitter.com/ALSOYouth', '-', 'http://www.ocps.net/cms/one.aspx?pageId=203421', 'http://www.ocps.net/cms/one.aspx?pageId=203421', 'http://www.ocps.net/cms/one.aspx?pageId=203421', 'http://www.ocps.net/cms/one.aspx?pageId=203421', 'http://www.ocps.net/cms/one.aspx?pageId=203421', 'http://www.ocps.net/cms/one.aspx?pageId=203421', 'http://www.ocps.net/cms/one.aspx?pageId=203421', 'http://www.ocps.net/cms/one.aspx?pageId=203421', 'http://www.ocps.net/cms/one.aspx?pageId=203421', 'http://www.ocps.net/cms/one.aspx?pageId=203421', 'http://www.ocps.net/cms/one.aspx?pageId=203421', 'http://www.ocps.net/cms/one.aspx?pageId=203421', 'http://www.outlastyouth.org,http://www.facebook.com/outlastyouth,http://www.instagram.com/outlastyouth/', 'http://www.rhsactivities.com/gsa', '-', 'http://www.ocps.net/cms/one.aspx?pageId=203421', 'http://www.boone.k12.ky.us/3/Content2/gsa', 'http://www.rlc365.org,http://www.facebook.com/TeenPrideUsa', 'http://northtexasayapsychology.com', '-', 'http://renee-baker.com', 'http://www.Childrens.com/gender', 'http://www.dfwfuse.com,http://www.facebook.com/dfwfuse,http://twitter.com/DFWfuse', 'http://www.promisehouse.org,http://www.facebook.com/promisehousedallas,http://twitter.com/PromiseHouse', '-', 'http://dfwtkf.com,http://www.facebook.com/pg/DFWTKF,http://twitter.com/dfwtkf', '-'], 'Email': ['woodsm21@themsms.org', 'ljsmith@adultandchilddevelopment.com', 'info@mssafeschools.org', 'keller@mcac-bao.org', 'swillis@avail.services', 'montgomeryprideunited8@gmail.com', '-', 'schlenkers@santarosa.k12.fl.us', 'ssneed@oxfordsd.org', 'gracecc@live.com', '-', 'cary.hurt@hsv-k12.org', '-', 'glenn.watson@hsv-k12.org', 'info@lgbtccneworleans.org', 'info@youthbreakout.org', '-', 'neworleansqyt@gmail.com', 'info@outmemphis.org', '-', 'info@youthoasis.org', '-', 'info@lgbtqcenterofbaycounty.org', 'ptcpflag@gmail.com', '-', 'info@all1familyinc.org', 'chaundra.luckett@chris180.org', 'eric@georgiaequality.org', 'info@sojourngsd.org', 'info@sojourngsd.org', 'operations@lnfy.org', '-', 'carrie_r_staines@dekalbschoolsga.org', '-', 'michael.dayton@cherokeek12.net', '-', '-', 'Robert_Patrick@gwinnett.k12.ga.us', '-', 'pflagjohnscreek@gmail.com', 'justin_gorun@gwinnett.k12.ga.us', '-', '-', 'cwindham@oasiscenter.org', '-', 'jclark@oasiscenter.org', 'tgooch@street-works.org', 'gsa@clevelandschools.org', 'luciesplacear@gmail.com', 'communityengagement@lucysplace.org', 'arian.median@ocps.net', '-', 'PridecorpsLittleRock@gmail.com', 'genderspectrumclinic@archildrens.org', '-', 'PACEYoungAdult@gmail.com', '-', 'amy.herrington@knoxschools.org', 'heagelston@marionunit2.org', 'connect@thestayproject.net', 'rainbowcafefundraising@gmail.com', 'levi.beidermann@cchs165.com', 'info@pridelink.org', '3statealliance@gmail.com', '-', 'tracy@tracydavisblacktherapy.com', 'info@tranzmission.org', 'info@youthoutright.org', 'wibblesb@aol.com', 'vincentkn@gm.sbac.edu', 'heckathorncg@gm.sbac.edu', 'anchoringwithin@gmail.com', 'bruggemanbr@ufl.edu', 'upliftoutreachcenter@gmail.com', 'gainesvilleequalityyouth@gmail.com', '-', 'Moultoba@gm.sbac.edu', '-', '-', 'pattersonbr@nassau.k12.fl.us', '-', 'pgsdgsa@gmail.com', '-', 'info@louisvilleyouthgroup.org', 'jhuey@lexrich5.org', 'admin@campoutflorida.com', 'larad1@duvalschools.org', 'Cksmith@spsmail.org', 'info@glocenter.org', 'info@harriethancockcenter.org', 'jasmyn@jasmyn.org', 'megan.burgess@tsd.state.tx.us', 'info@harriethancockcenter.org', 'sara.davis@fayette.kyschool.us', 'thumphre@cusd.kahoks.org', '-', 'CompanyQLexington@gmail.com', 'kylp.intake@gmail.com', 'gsa@pcsoky.org', 'support.team@transparentusa.org', 'support.team@transparentusa.org', 'growingamericanyouth@gmail.com', '-', 'katherine@authenticlifepllc.com', '-', '-', 'calvin.dillon@hcps.net', 'outrightcv@gmail.com', 'info@genderinfinity.org', 'Tomljanovicha@pcsb.org', 'info@tonysplace.org', 'maxwelll@fatimacomets.org', 'info@hatchyouth.org', 'jen@charlottetranshealth.org', 'ChingYi.Chen@hcps.net', 'samanthaacalkins@tomballisd.net', 'TreyGreeneCounseling@gmail.com', 'youth@metrotampabay.org', 'lgbt@metrotampabay.org', 'info@timeoutyouth.org', 'hancocke@flaglerschools.com', 'Youth@MetroTampaBay.org', '-', 'info@timeoutyouth.org', '-', '-', 'info@thetriangleconnection.com', 'kimberly.buechner@hcps.net', 'ashleytrotnic@joplinschools.org', 'youth@SpencerPride.org', 'rene.casallas@fortbendisd.com', 'youth@galanorthtexas.org', 'nicole.amburgey@ocps.net', '-', 'michael_morelli@charleston.k12.sc.us', 'churchil@bcsdschools.net', 'megan.mullaneycorreira@ocps.net', 'info@waf.org', 'ashley.gecewicz@ocps.net', 'jan.richards@ocps.net', 'info@waf.org', 'pepperd@manateeschools.net', 'cynthia@emergencecounseling.com', 'debra.richmond@allenisd.org', 'info@zebrayouth.org', 'morgen.pittman@ocps.net', 'president@lakelandyouthalliance.org', 'michelle@thecenterorlando.org', 'englandm@friscoisd.org', 'youth@myresourcecenter.org', 'lynne.cohen@ocps.net', 'michael.cat@ocps.net', 'info@zebrayouth.org', 'info@orlandoyouthalliance.org', 'mickey@alsoyouth.org', 'alexis.branch@ocps.net', 'ashley.whitman@ocps.net', 'monica.strange@ocps.net', 'isabella.delgado@ocps.net', 'carson.summers@ocps.net', 'nicholas.altensee@ocps.net', 'abigail.chowdhury@ocps.net', 'jodi.zocchi@ocps.net', 'jamie.schroeder@ocps.net', 'jeremy.mohr@ocps.net', 'chloe.watson@ocps.net', 'ashleigh.pfriem@ocps.net', 'michael.faber@ocps.net', 'hello@outlastyouth.org', '-', '94182@ocps.net', 'merlyn.brookesromney@ocps.net', 'megan.bogenschutz@boone.kyschools.us', 'info@rlc365.org', '-', 'stephanie_mignone@charleston.k12.sc.us', 'renee@renee-baker.com', 'GENECIS@childrens.com', 'fusebox@myresourcecenter.org', '-', 'gkirchhofer@cpsk12.org', 'info@dfwtkf.com', '-'], 'NameL': ['Mississippi School for Mathematics and Science', 'Brown, Jane', 'Mississippi Safe Schools Coalition', 'Steel City Spectrum', 'Willis, Samantha', 'Montgomery Pride United', 'Wood, Elizabeth', 'Pace High School', 'Oxford High School', 'Breland, Andrew J.', 'Florence High School', 'Grissom High School', 'Mulder, Sarah E.', 'New Century Technology High School', 'Lesbian, Gay, Bisexual Transgender (LGBT)', 'Break Out', 'Elmore Park Middle School', 'LOUD: New Orleans Queer Youth Theater', 'Youth Services at OUTMemphis', 'Bartlett High School', 'Youth Oasis', 'Crawford Mosley High', 'The Center - LGBTQ Center of Bay County', 'PFLAG - Peachtree City', 'Franklin County High School', 'All-1-Residences', 'CHRIS 180', 'Georgia Safe Schools Coalition', 'SOJOURN', 'SOJOURN - Tum Tum', 'Lost N Found', 'Skyland Trail', 'Druid Hills High School', 'Signal Mountain Middle School', 'Sequoyah High School', 'Jones, Tiffany', 'Patrice, Laurie', 'Parkview High School', 'J.T. Moore Middle Prep', 'PFLAG - Johns Creek', 'Brookwood High School', 'Glencliff High School', 'Central Gwinnett High School', 'Oasis Center', 'Hume-Fogg Magnet High School', 'Just Us/ Students of Stonewall / Becoming Us', 'Street Works', 'Cleveland High School', \"Lucie's Place\", 'Arkansas Gay Straight Alliance Network', 'Timber Creek High School', 'Little Rock Central High GSA', 'PrideCorps LGBT Youth Center of Arkansas', \"ACH's Gender Spectrum Clinic\", 'Athens Queer Collective', 'PACEY', 'Greenwood High School', 'Fulton High School', 'Marion High School', 'Stay Together Appalachian Youth (STAY)', 'Rainbow Cafe', 'Carbondale Community High School', 'PrideLink', 'TSA Youth Group', 'Asheville High School', 'Davis-Black, Tracy', 'Tranzmission', 'Youth OUTRIGHT', 'Camp Heart To Heart', 'F.W. Buchholz High School', 'Gainesville High School', 'Gomes, Theresa', 'UF Health Gainesville Youth Gender Program', 'Uplift Outreach Center', 'Gainesville Equality Youth', 'Abraham Lincoln Middle School', 'Eastside High School', 'Jasper High School', 'Fayetteville High School GSA', 'Yulee High School', 'Stanton College Preparatory GSA', 'Prairie Grove High School', 'Sweet Evening Breeze', 'Louisville Youth Group', 'Irmo High School', 'CampOUT', 'Atlantic Coast High School', 'Central High School', 'Gay and Lesbian Community Center Of The Ozarks', 'Harriet Hancock LGBT Center', 'Jacksonville Area Sexual', 'South Carolina GSA Network', 'Youth OutLoud', 'Southern Middle School', 'Collinsville High School', 'Gateway Science Academy Middle and High School', 'Company Q', 'Kentucky Youth Law Project, Inc.', 'Lexington Gender & Sexuality Alliance', 'TransParent USA', 'TransParent USA - St. Louis', 'Growing American Youth', 'Youth Emergency Service Hotline', 'Traxler, Katherine', 'Youth In Need', 'South Houston High School', 'Steinbrenner High School', 'OUTright Youth of Catawba Valley', 'Gender Infinity', 'Seminole Middle School', \"Tony's Place\", 'Fatima High School', 'Hatch Youth', 'Ratajczak, Jennifer', 'Wharton High School', 'Tomball Memorial High School', 'Greene, Trey', 'Metro Wellness Youth Therapy', 'Metro Youth Group', 'Time Out Youth', 'Flagler Palm Coast High School', 'Metro Youth Groups', 'Alexander Central High School', 'North Carolina GSA Network', 'Bloomington High School South', 'Dixie Hollins High Schol', 'Triangle Connection', 'Armwood High School', 'Joplin High School', 'Spencer Pride CommUnity Center', 'Bush High School', 'GALA Youth', 'Apopka High School', 'Plant City High School', 'Charleston County School of the Arts', 'Hanahan High School', 'Horizon High School', 'We Are Family', 'Ocoee High School', 'Ocoee Middle School', 'QueerSpace', 'Manatee High School', 'Fisher, Cynthia', 'Allen High School', 'Kaleidescope', 'Windermere High School', 'Lakeland Youth Alliance', 'Child Gender Identity and Caregiver Group', 'Independence High School', 'Resource Center, Youth First', 'Winter Park High School', 'Winter Park High School- Freshman Campus', 'Zebra Coalition', 'Orlando Youth Alliance', 'ALSO Youth', 'Avalon Middle School', 'Blanker School', 'Boone High School', 'Chain of Lakes Middle School', 'College Park Middle School', 'Conway Middle School', 'Discovery Middle School', 'Edgewater High School', 'Freedom High School', 'Freedom Middle School', 'Jones High School', 'Lake Nona High School', 'Oak Ridge High School', 'Outlast Youth', 'Riverside High School', 'University High School', 'Windy Ridge K-8', 'Conner H igh School', 'Dallas Teen Pride', 'McDonald, Wade', 'Wando High School', 'Baker, Renee', \"Children's Health GENECIS Program\", 'Fuse', 'Promise House, Inc.', 'Rock Bridge High School Gay Straight Alliance', 'DFWTKF', 'Hagerty High School']}\n"
     ]
    }
   ],
   "source": [
    " #Gabung\n",
    "gabung = {'Source of URL':[], 'Name':[], 'Website':[], 'Email':[]}\n",
    "    \n",
    "source_url = []\n",
    "name = []\n",
    "website = []\n",
    "email = []\n",
    " \n",
    "for ress in results:\n",
    "    source_url.append(mylist[0])\n",
    "    #Search Name\n",
    "    dom = etree.HTML(str(ress))\n",
    "    na = dom.xpath('//p[1]/text()[1]')[0] \n",
    "    namesr = na.split(\"\\xa0 \\xa0\\xa0 \\xa0\\xa0 \\xa0\") \n",
    "    if namesr[0] != '': \n",
    "        name.append(namesr[0])\n",
    "    else:\n",
    "        src1 = ress.find_all('a',href=True)\n",
    "        if not src1:\n",
    "            name.append('-')\n",
    "        else:\n",
    "            name.append(src1[0].text)  \n",
    "    \n",
    "    #Seach WEB & MAIL\n",
    "    src2 = ress.find_all('a',href=True)\n",
    "    if not src2:\n",
    "        website.append('-')\n",
    "        email.append('-')\n",
    "    else:  \n",
    "        web=[]\n",
    "        mail=[]\n",
    "        for urlw in src2:\n",
    "            url = urlw['href']\n",
    "            if url.startswith('https') or url.startswith('http'):\n",
    "                exists = url in web\n",
    "                if exists == False:\n",
    "                    web.append(url)\n",
    "            elif url.startswith('mailto'):\n",
    "                urlr = url.replace('mailto:', '')\n",
    "                exists = urlr in mail\n",
    "                if exists == False:\n",
    "                    mail.append(urlr) \n",
    "        if not web:\n",
    "            website.append('-')\n",
    "        else:\n",
    "            webj = \",\". join(web)\n",
    "            website.append(webj)\n",
    "            \n",
    "        if not mail:\n",
    "            email.append('-') \n",
    "        else:\n",
    "            mailj = \",\". join(mail)\n",
    "            email.append(mailj) \n",
    "\n",
    "gabung['Source of URL'] = source_url\n",
    "gabung['NameL'] = name\n",
    "gabung['Website'] = website\n",
    "gabung['Email'] = email\n",
    "\n",
    "print(gabung)"
   ]
  },
  {
   "cell_type": "code",
   "execution_count": 197,
   "id": "637aa671",
   "metadata": {},
   "outputs": [
    {
     "data": {
      "text/html": [
       "<div>\n",
       "<style scoped>\n",
       "    .dataframe tbody tr th:only-of-type {\n",
       "        vertical-align: middle;\n",
       "    }\n",
       "\n",
       "    .dataframe tbody tr th {\n",
       "        vertical-align: top;\n",
       "    }\n",
       "\n",
       "    .dataframe thead th {\n",
       "        text-align: right;\n",
       "    }\n",
       "</style>\n",
       "<table border=\"1\" class=\"dataframe\">\n",
       "  <thead>\n",
       "    <tr style=\"text-align: right;\">\n",
       "      <th></th>\n",
       "      <th>Source URL</th>\n",
       "      <th>Name</th>\n",
       "      <th>Web</th>\n",
       "      <th>Email</th>\n",
       "    </tr>\n",
       "  </thead>\n",
       "  <tbody>\n",
       "    <tr>\n",
       "      <th>0</th>\n",
       "      <td>https://www.glbtnearme.org/GLBTNearMeResults.p...</td>\n",
       "      <td>Mississippi School for Mathematics and Science</td>\n",
       "      <td>-</td>\n",
       "      <td>woodsm21@themsms.org</td>\n",
       "    </tr>\n",
       "    <tr>\n",
       "      <th>1</th>\n",
       "      <td>https://www.glbtnearme.org/GLBTNearMeResults.p...</td>\n",
       "      <td>Brown, Jane</td>\n",
       "      <td>http://www.adultandchilddevelopment.com</td>\n",
       "      <td>ljsmith@adultandchilddevelopment.com</td>\n",
       "    </tr>\n",
       "    <tr>\n",
       "      <th>2</th>\n",
       "      <td>https://www.glbtnearme.org/GLBTNearMeResults.p...</td>\n",
       "      <td>Mississippi Safe Schools Coalition</td>\n",
       "      <td>http://www.mssafeschools.org/,http://twitter.c...</td>\n",
       "      <td>info@mssafeschools.org</td>\n",
       "    </tr>\n",
       "    <tr>\n",
       "      <th>3</th>\n",
       "      <td>https://www.glbtnearme.org/GLBTNearMeResults.p...</td>\n",
       "      <td>Steel City Spectrum</td>\n",
       "      <td>http://www.facebook.com/steelcityspectrum</td>\n",
       "      <td>keller@mcac-bao.org</td>\n",
       "    </tr>\n",
       "    <tr>\n",
       "      <th>4</th>\n",
       "      <td>https://www.glbtnearme.org/GLBTNearMeResults.p...</td>\n",
       "      <td>Willis, Samantha</td>\n",
       "      <td>http://avail.services,http://openpathcollectiv...</td>\n",
       "      <td>swillis@avail.services</td>\n",
       "    </tr>\n",
       "    <tr>\n",
       "      <th>...</th>\n",
       "      <td>...</td>\n",
       "      <td>...</td>\n",
       "      <td>...</td>\n",
       "      <td>...</td>\n",
       "    </tr>\n",
       "    <tr>\n",
       "      <th>178</th>\n",
       "      <td>https://www.glbtnearme.org/GLBTNearMeResults.p...</td>\n",
       "      <td>Fuse</td>\n",
       "      <td>http://www.dfwfuse.com,http://www.facebook.com...</td>\n",
       "      <td>fusebox@myresourcecenter.org</td>\n",
       "    </tr>\n",
       "    <tr>\n",
       "      <th>179</th>\n",
       "      <td>https://www.glbtnearme.org/GLBTNearMeResults.p...</td>\n",
       "      <td>Promise House, Inc.</td>\n",
       "      <td>http://www.promisehouse.org,http://www.faceboo...</td>\n",
       "      <td>-</td>\n",
       "    </tr>\n",
       "    <tr>\n",
       "      <th>180</th>\n",
       "      <td>https://www.glbtnearme.org/GLBTNearMeResults.p...</td>\n",
       "      <td>Rock Bridge High School Gay Straight Alliance</td>\n",
       "      <td>-</td>\n",
       "      <td>gkirchhofer@cpsk12.org</td>\n",
       "    </tr>\n",
       "    <tr>\n",
       "      <th>181</th>\n",
       "      <td>https://www.glbtnearme.org/GLBTNearMeResults.p...</td>\n",
       "      <td>DFWTKF</td>\n",
       "      <td>http://dfwtkf.com,http://www.facebook.com/pg/D...</td>\n",
       "      <td>info@dfwtkf.com</td>\n",
       "    </tr>\n",
       "    <tr>\n",
       "      <th>182</th>\n",
       "      <td>https://www.glbtnearme.org/GLBTNearMeResults.p...</td>\n",
       "      <td>Hagerty High School</td>\n",
       "      <td>-</td>\n",
       "      <td>-</td>\n",
       "    </tr>\n",
       "  </tbody>\n",
       "</table>\n",
       "<p>183 rows × 4 columns</p>\n",
       "</div>"
      ],
      "text/plain": [
       "                                            Source URL  \\\n",
       "0    https://www.glbtnearme.org/GLBTNearMeResults.p...   \n",
       "1    https://www.glbtnearme.org/GLBTNearMeResults.p...   \n",
       "2    https://www.glbtnearme.org/GLBTNearMeResults.p...   \n",
       "3    https://www.glbtnearme.org/GLBTNearMeResults.p...   \n",
       "4    https://www.glbtnearme.org/GLBTNearMeResults.p...   \n",
       "..                                                 ...   \n",
       "178  https://www.glbtnearme.org/GLBTNearMeResults.p...   \n",
       "179  https://www.glbtnearme.org/GLBTNearMeResults.p...   \n",
       "180  https://www.glbtnearme.org/GLBTNearMeResults.p...   \n",
       "181  https://www.glbtnearme.org/GLBTNearMeResults.p...   \n",
       "182  https://www.glbtnearme.org/GLBTNearMeResults.p...   \n",
       "\n",
       "                                               Name  \\\n",
       "0    Mississippi School for Mathematics and Science   \n",
       "1                                       Brown, Jane   \n",
       "2                Mississippi Safe Schools Coalition   \n",
       "3                               Steel City Spectrum   \n",
       "4                                  Willis, Samantha   \n",
       "..                                              ...   \n",
       "178                                            Fuse   \n",
       "179                             Promise House, Inc.   \n",
       "180   Rock Bridge High School Gay Straight Alliance   \n",
       "181                                          DFWTKF   \n",
       "182                             Hagerty High School   \n",
       "\n",
       "                                                   Web  \\\n",
       "0                                                    -   \n",
       "1              http://www.adultandchilddevelopment.com   \n",
       "2    http://www.mssafeschools.org/,http://twitter.c...   \n",
       "3            http://www.facebook.com/steelcityspectrum   \n",
       "4    http://avail.services,http://openpathcollectiv...   \n",
       "..                                                 ...   \n",
       "178  http://www.dfwfuse.com,http://www.facebook.com...   \n",
       "179  http://www.promisehouse.org,http://www.faceboo...   \n",
       "180                                                  -   \n",
       "181  http://dfwtkf.com,http://www.facebook.com/pg/D...   \n",
       "182                                                  -   \n",
       "\n",
       "                                    Email  \n",
       "0                    woodsm21@themsms.org  \n",
       "1    ljsmith@adultandchilddevelopment.com  \n",
       "2                  info@mssafeschools.org  \n",
       "3                     keller@mcac-bao.org  \n",
       "4                  swillis@avail.services  \n",
       "..                                    ...  \n",
       "178          fusebox@myresourcecenter.org  \n",
       "179                                     -  \n",
       "180                gkirchhofer@cpsk12.org  \n",
       "181                       info@dfwtkf.com  \n",
       "182                                     -  \n",
       "\n",
       "[183 rows x 4 columns]"
      ]
     },
     "execution_count": 197,
     "metadata": {},
     "output_type": "execute_result"
    }
   ],
   "source": [
    "#Source URL\tName\tWeb\tEmail\n",
    "datasave = pd.DataFrame({'Source URL': source_url, 'Name':name, 'Web':website, 'Email':email})\n",
    "datasave"
   ]
  },
  {
   "cell_type": "code",
   "execution_count": 198,
   "id": "05e52347",
   "metadata": {},
   "outputs": [],
   "source": [
    "datasave.to_excel('data20220605.xlsx', index=False)"
   ]
  },
  {
   "cell_type": "code",
   "execution_count": null,
   "id": "7f1b44c6",
   "metadata": {},
   "outputs": [],
   "source": []
  }
 ],
 "metadata": {
  "kernelspec": {
   "display_name": "Python 3 (ipykernel)",
   "language": "python",
   "name": "python3"
  },
  "language_info": {
   "codemirror_mode": {
    "name": "ipython",
    "version": 3
   },
   "file_extension": ".py",
   "mimetype": "text/x-python",
   "name": "python",
   "nbconvert_exporter": "python",
   "pygments_lexer": "ipython3",
   "version": "3.8.13"
  }
 },
 "nbformat": 4,
 "nbformat_minor": 5
}
